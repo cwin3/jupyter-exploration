{
 "cells": [
  {
   "cell_type": "markdown",
   "id": "cb4ac31d",
   "metadata": {},
   "source": [
    "## My first markdown cell in Jupyter.\n",
    "\n",
    "This is a simple example notebook."
   ]
  },
  {
   "cell_type": "code",
   "execution_count": null,
   "id": "ff480d4d",
   "metadata": {},
   "outputs": [],
   "source": [
    "print(\"Hello, World!\")"
   ]
  }
 ],
 "metadata": {},
 "nbformat": 4,
 "nbformat_minor": 5
}